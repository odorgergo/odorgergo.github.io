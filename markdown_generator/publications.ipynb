{
 "cells": [
  {
   "cell_type": "markdown",
   "metadata": {},
   "source": [
    "# Publications markdown generator for academicpages\n",
    "\n",
    "Takes a TSV of publications with metadata and converts them for use with [academicpages.github.io](academicpages.github.io). This is an interactive Jupyter notebook ([see more info here](http://jupyter-notebook-beginner-guide.readthedocs.io/en/latest/what_is_jupyter.html)). The core python code is also in `publications.py`. Run either from the `markdown_generator` folder after replacing `publications.tsv` with one containing your data.\n",
    "\n",
    "TODO: Make this work with BibTex and other databases of citations, rather than Stuart's non-standard TSV format and citation style.\n"
   ]
  },
  {
   "cell_type": "markdown",
   "metadata": {},
   "source": [
    "## Data format\n",
    "\n",
    "The TSV needs to have the following columns: pub_date, title, venue, excerpt, citation, site_url, and paper_url, with a header at the top. \n",
    "\n",
    "- `excerpt` and `paper_url` can be blank, but the others must have values. \n",
    "- `pub_date` must be formatted as YYYY-MM-DD.\n",
    "- `url_slug` will be the descriptive part of the .md file and the permalink URL for the page about the paper. The .md file will be `YYYY-MM-DD-[url_slug].md` and the permalink will be `https://[yourdomain]/publications/YYYY-MM-DD-[url_slug]`\n",
    "\n",
    "This is how the raw file looks (it doesn't look pretty, use a spreadsheet or other program to edit and create)."
   ]
  },
  {
   "cell_type": "code",
   "execution_count": 50,
   "metadata": {},
   "outputs": [
    {
     "name": "stdout",
     "output_type": "stream",
     "text": [
      "pub_date\ttitle\tvenue\texcerpt\tauthors\turl_slug\tpaper_url\timageformat\r",
      "\r\n",
      "2021-10-14\tSwitchover phenomenon induced by epidemic seeding on geometric networks\tProceedings of the National Academy of Sciences\tWe observe empirically and prove theoretically a new phenomenon related to how the initial seeding affects the outcome of an epidemic.\t\"Gergely �dor, Domonkos Czifra, J�lia Komj�thy, L�szl� Lov�sz, M�rton Karsai\"\tswitchover\thttps://doi.org/10.1073/pnas.2112607118\tpng\r",
      "\r\n",
      "2022-04-08\tThe power of adaptivity in source identification with time queries on the path\tTheoretical Computer Science\t\"We provide the first theoretical results on the query complexity of the source identification problem when queried nodes report their infection time; in the adaptive case we need only _(loglog(n)) queries, while in the non-adaptive case _(n) queries are needed.\"\t\"Victor Lecomte, Gergely �dor, and Patrick Thiran\"\tpower\thttps://doi.org/10.1016/j.tcs.2022.02.008\tpng\r",
      "\r\n",
      "2021-11-21\tSequential metric dimension for random graphs\tJournal of Applied Probability\tWe prove that the sequential version of the metric dimension (where the landmarks can be chosen adaptively to distinguish every pair of nodes based on distances) is only a multiplicative constant factor smaller than the (non-adaptive) metric dimension in Erdos-Renyi graphs\tGergely �dor and Patrick Thiran\tsmd\thttps://doi.org/10.1017/jpr.2021.16\tpng\r",
      "\r\n",
      "2021-06-01\tMetric dimension of critical Galton-Watson trees and linear preferential attachment trees\tEuropean Journal of Combinatorics\t\"Building on the literature of fringe trees, we prove law of large numbers type results for the metric dimension of various random trees.\"\t\"J�lia Komj�thy, Gergely �dor\"\tfringe\thttps://doi.org/10.1016/j.ejc.2021.103317\tpng\r",
      "\r\n",
      "2021-12-29\tSource Detection via Contact Tracing in the Presence of Asymptomatic Patients\tarxiv\t\"We define and prove rigorous results about a new source identification framework, where the network is initially not known to the algorithm, but must be explored through queries (similarly to the node infection times), and we evaluate our algorithms on realistic datasets.\"\t\"Gergely �dor, Jana Vuckovic, Miguel-Angel Sanchez Ndoye, Patrick Thiran\"\tsictf\thttps://arxiv.org/abs/2112.14530\tpng\r",
      "\r\n",
      "2022-07-31\tOn the robustness of the metric dimension of grid graphs to adding a single edge\tDiscrete Applied Mathematics\t\"We prove that if we add an extra edge to a (large enough) d-dimensional grid graph, then the resulting graph will have metric dimension between d and 2d, and we almost completely settle the case for d=2.\"\t\"Satvik Mashkaria, Gergely �dor, Patrick Thiran\"\trobustness\thttps://doi.org/10.1016/j.dam.2022.02.014\tpng"
     ]
    }
   ],
   "source": [
    "!cat publications.tsv"
   ]
  },
  {
   "cell_type": "markdown",
   "metadata": {},
   "source": [
    "## Import pandas\n",
    "\n",
    "We are using the very handy pandas library for dataframes."
   ]
  },
  {
   "cell_type": "code",
   "execution_count": 51,
   "metadata": {},
   "outputs": [],
   "source": [
    "import pandas as pd"
   ]
  },
  {
   "cell_type": "markdown",
   "metadata": {},
   "source": [
    "## Import TSV\n",
    "\n",
    "Pandas makes this easy with the read_csv function. We are using a TSV, so we specify the separator as a tab, or `\\t`.\n",
    "\n",
    "I found it important to put this data in a tab-separated values format, because there are a lot of commas in this kind of data and comma-separated values can get messed up. However, you can modify the import statement, as pandas also has read_excel(), read_json(), and others."
   ]
  },
  {
   "cell_type": "code",
   "execution_count": 52,
   "metadata": {},
   "outputs": [
    {
     "data": {
      "text/html": [
       "<div>\n",
       "<style scoped>\n",
       "    .dataframe tbody tr th:only-of-type {\n",
       "        vertical-align: middle;\n",
       "    }\n",
       "\n",
       "    .dataframe tbody tr th {\n",
       "        vertical-align: top;\n",
       "    }\n",
       "\n",
       "    .dataframe thead th {\n",
       "        text-align: right;\n",
       "    }\n",
       "</style>\n",
       "<table border=\"1\" class=\"dataframe\">\n",
       "  <thead>\n",
       "    <tr style=\"text-align: right;\">\n",
       "      <th></th>\n",
       "      <th>pub_date</th>\n",
       "      <th>title</th>\n",
       "      <th>venue</th>\n",
       "      <th>excerpt</th>\n",
       "      <th>authors</th>\n",
       "      <th>url_slug</th>\n",
       "      <th>paper_url</th>\n",
       "      <th>imageformat</th>\n",
       "    </tr>\n",
       "  </thead>\n",
       "  <tbody>\n",
       "    <tr>\n",
       "      <th>0</th>\n",
       "      <td>2021-10-14</td>\n",
       "      <td>Switchover phenomenon induced by epidemic seed...</td>\n",
       "      <td>Proceedings of the National Academy of Sciences</td>\n",
       "      <td>We observe empirically and prove theoretically...</td>\n",
       "      <td>Gergely Ódor, Domonkos Czifra, Júlia Komjáthy,...</td>\n",
       "      <td>switchover</td>\n",
       "      <td>https://doi.org/10.1073/pnas.2112607118</td>\n",
       "      <td>png</td>\n",
       "    </tr>\n",
       "    <tr>\n",
       "      <th>1</th>\n",
       "      <td>2022-04-08</td>\n",
       "      <td>The power of adaptivity in source identificati...</td>\n",
       "      <td>Theoretical Computer Science</td>\n",
       "      <td>We provide the first theoretical results on th...</td>\n",
       "      <td>Victor Lecomte, Gergely Ódor, and Patrick Thiran</td>\n",
       "      <td>power</td>\n",
       "      <td>https://doi.org/10.1016/j.tcs.2022.02.008</td>\n",
       "      <td>png</td>\n",
       "    </tr>\n",
       "    <tr>\n",
       "      <th>2</th>\n",
       "      <td>2021-11-21</td>\n",
       "      <td>Sequential metric dimension for random graphs</td>\n",
       "      <td>Journal of Applied Probability</td>\n",
       "      <td>We prove that the sequential version of the me...</td>\n",
       "      <td>Gergely Ódor and Patrick Thiran</td>\n",
       "      <td>smd</td>\n",
       "      <td>https://doi.org/10.1017/jpr.2021.16</td>\n",
       "      <td>png</td>\n",
       "    </tr>\n",
       "    <tr>\n",
       "      <th>3</th>\n",
       "      <td>2021-06-01</td>\n",
       "      <td>Metric dimension of critical Galton-Watson tre...</td>\n",
       "      <td>European Journal of Combinatorics</td>\n",
       "      <td>Building on the literature of fringe trees, we...</td>\n",
       "      <td>Júlia Komjáthy, Gergely Ódor</td>\n",
       "      <td>fringe</td>\n",
       "      <td>https://doi.org/10.1016/j.ejc.2021.103317</td>\n",
       "      <td>png</td>\n",
       "    </tr>\n",
       "    <tr>\n",
       "      <th>4</th>\n",
       "      <td>2021-12-29</td>\n",
       "      <td>Source Detection via Contact Tracing in the Pr...</td>\n",
       "      <td>arxiv</td>\n",
       "      <td>We define and prove rigorous results about a n...</td>\n",
       "      <td>Gergely Ódor, Jana Vuckovic, Miguel-Angel Sanc...</td>\n",
       "      <td>sictf</td>\n",
       "      <td>https://arxiv.org/abs/2112.14530</td>\n",
       "      <td>png</td>\n",
       "    </tr>\n",
       "    <tr>\n",
       "      <th>5</th>\n",
       "      <td>2022-07-31</td>\n",
       "      <td>On the robustness of the metric dimension of g...</td>\n",
       "      <td>Discrete Applied Mathematics</td>\n",
       "      <td>We prove that if we add an extra edge to a (la...</td>\n",
       "      <td>Satvik Mashkaria, Gergely Ódor, Patrick Thiran</td>\n",
       "      <td>robustness</td>\n",
       "      <td>https://doi.org/10.1016/j.dam.2022.02.014</td>\n",
       "      <td>png</td>\n",
       "    </tr>\n",
       "  </tbody>\n",
       "</table>\n",
       "</div>"
      ],
      "text/plain": [
       "     pub_date                                              title  \\\n",
       "0  2021-10-14  Switchover phenomenon induced by epidemic seed...   \n",
       "1  2022-04-08  The power of adaptivity in source identificati...   \n",
       "2  2021-11-21      Sequential metric dimension for random graphs   \n",
       "3  2021-06-01  Metric dimension of critical Galton-Watson tre...   \n",
       "4  2021-12-29  Source Detection via Contact Tracing in the Pr...   \n",
       "5  2022-07-31  On the robustness of the metric dimension of g...   \n",
       "\n",
       "                                             venue  \\\n",
       "0  Proceedings of the National Academy of Sciences   \n",
       "1                     Theoretical Computer Science   \n",
       "2                   Journal of Applied Probability   \n",
       "3                European Journal of Combinatorics   \n",
       "4                                            arxiv   \n",
       "5                     Discrete Applied Mathematics   \n",
       "\n",
       "                                             excerpt  \\\n",
       "0  We observe empirically and prove theoretically...   \n",
       "1  We provide the first theoretical results on th...   \n",
       "2  We prove that the sequential version of the me...   \n",
       "3  Building on the literature of fringe trees, we...   \n",
       "4  We define and prove rigorous results about a n...   \n",
       "5  We prove that if we add an extra edge to a (la...   \n",
       "\n",
       "                                             authors    url_slug  \\\n",
       "0  Gergely Ódor, Domonkos Czifra, Júlia Komjáthy,...  switchover   \n",
       "1   Victor Lecomte, Gergely Ódor, and Patrick Thiran       power   \n",
       "2                    Gergely Ódor and Patrick Thiran         smd   \n",
       "3                       Júlia Komjáthy, Gergely Ódor      fringe   \n",
       "4  Gergely Ódor, Jana Vuckovic, Miguel-Angel Sanc...       sictf   \n",
       "5     Satvik Mashkaria, Gergely Ódor, Patrick Thiran  robustness   \n",
       "\n",
       "                                   paper_url imageformat  \n",
       "0    https://doi.org/10.1073/pnas.2112607118         png  \n",
       "1  https://doi.org/10.1016/j.tcs.2022.02.008         png  \n",
       "2        https://doi.org/10.1017/jpr.2021.16         png  \n",
       "3  https://doi.org/10.1016/j.ejc.2021.103317         png  \n",
       "4           https://arxiv.org/abs/2112.14530         png  \n",
       "5  https://doi.org/10.1016/j.dam.2022.02.014         png  "
      ]
     },
     "execution_count": 52,
     "metadata": {},
     "output_type": "execute_result"
    }
   ],
   "source": [
    "publications = pd.read_csv(\"publications.tsv\", sep=\"\\t\", header=0,encoding=\"mac-roman\")\n",
    "publications\n"
   ]
  },
  {
   "cell_type": "markdown",
   "metadata": {},
   "source": [
    "## Escape special characters\n",
    "\n",
    "YAML is very picky about how it takes a valid string, so we are replacing single and double quotes (and ampersands) with their HTML encoded equivilents. This makes them look not so readable in raw format, but they are parsed and rendered nicely."
   ]
  },
  {
   "cell_type": "code",
   "execution_count": 53,
   "metadata": {},
   "outputs": [],
   "source": [
    "html_escape_table = {\n",
    "    \"&\": \"&amp;\",\n",
    "    '\"': \"&quot;\",\n",
    "    \"'\": \"&apos;\"\n",
    "    }\n",
    "\n",
    "def html_escape(text):\n",
    "    \"\"\"Produce entities within text.\"\"\"\n",
    "    return \"\".join(html_escape_table.get(c,c) for c in text)"
   ]
  },
  {
   "cell_type": "markdown",
   "metadata": {},
   "source": [
    "## Creating the markdown files\n",
    "\n",
    "This is where the heavy lifting is done. This loops through all the rows in the TSV dataframe, then starts to concatentate a big string (```md```) that contains the markdown for each type. It does the YAML metadata first, then does the description for the individual page."
   ]
  },
  {
   "cell_type": "code",
   "execution_count": 54,
   "metadata": {},
   "outputs": [],
   "source": [
    "import os\n",
    "for row, item in publications.iterrows():\n",
    "    \n",
    "    md_filename = str(item.pub_date) + \"-\" + item.url_slug + \".md\"\n",
    "    html_filename = str(item.pub_date) + \"-\" + item.url_slug\n",
    "    year = item.pub_date[:4]\n",
    "    \n",
    "    ## YAML variables\n",
    "    \n",
    "    md = \"---\\ntitle: \\\"\"   + item.title + '\"\\n'\n",
    "    \n",
    "    md += \"\"\"collection: publications\"\"\"\n",
    "    \n",
    "    md += \"\"\"\\nlink: \"\"\" + item.paper_url\n",
    "    \n",
    "    if len(str(item.excerpt)) > 5:\n",
    "        md += \"\\nexcerpt: '\" + html_escape(item.excerpt) + \"'\"\n",
    "    \n",
    "    md += \"\\ndate: \" + str(item.pub_date) \n",
    "    \n",
    "    md += \"\\nauthors: '\" + html_escape(item.authors) + \"'\"\n",
    "    \n",
    "    md += \"\\nvenue: '\" + html_escape(item.venue) + \"'\"\n",
    "    \n",
    "    md += \"\\nimage: '\" + html_escape(item.url_slug) +\".\" + html_escape(item.imageformat) + \"'\"\n",
    "    \n",
    "    md += \"\\n---\"\n",
    "    \n",
    "    ## Markdown description for individual page\n",
    "            \n",
    "    md_filename = os.path.basename(md_filename)\n",
    "       \n",
    "    with open(\"../_publications/\" + md_filename, 'w') as f:\n",
    "        f.write(md)"
   ]
  },
  {
   "cell_type": "markdown",
   "metadata": {},
   "source": [
    "These files are in the publications directory, one directory below where we're working from."
   ]
  },
  {
   "cell_type": "code",
   "execution_count": 48,
   "metadata": {},
   "outputs": [
    {
     "name": "stdout",
     "output_type": "stream",
     "text": [
      "2021-06-01-fringe.md     2021-11-21-smd.md        2022-07-31-robustness.md\r\n",
      "2021-10-14-swichover.md  2021-12-29-sictf.md\r\n",
      "2021-10-14-switchover.md 2022-04-08-power.md\r\n"
     ]
    }
   ],
   "source": [
    "!ls ../_publications/"
   ]
  },
  {
   "cell_type": "code",
   "execution_count": null,
   "metadata": {},
   "outputs": [],
   "source": []
  }
 ],
 "metadata": {
  "kernelspec": {
   "display_name": "Python 3 (ipykernel)",
   "language": "python",
   "name": "python3"
  },
  "language_info": {
   "codemirror_mode": {
    "name": "ipython",
    "version": 3
   },
   "file_extension": ".py",
   "mimetype": "text/x-python",
   "name": "python",
   "nbconvert_exporter": "python",
   "pygments_lexer": "ipython3",
   "version": "3.9.7"
  }
 },
 "nbformat": 4,
 "nbformat_minor": 1
}
